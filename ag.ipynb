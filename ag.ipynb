{
 "cells": [
  {
   "cell_type": "code",
   "execution_count": 7,
   "metadata": {},
   "outputs": [],
   "source": [
    "\n",
    "from langchain_community.llms.ollama import Ollama\n",
    "from langchain.prompts import PromptTemplate , ChatPromptTemplate\n",
    "from langchain.memory import ConversationBufferMemory\n",
    "from langchain.chains.llm import LLMChain"
   ]
  },
  {
   "cell_type": "code",
   "execution_count": 5,
   "metadata": {},
   "outputs": [],
   "source": [
    "llm = Ollama(model=\"llama3\")"
   ]
  },
  {
   "cell_type": "code",
   "execution_count": 1,
   "metadata": {},
   "outputs": [],
   "source": [
    "system = '''\n",
    "    You are a helpful AI bot named Ellie, which stands for \"Electronic Interviewer.\"\n",
    "    You will conduct a simulated job interview by asking a series of questions related to a specific job title, job description, or topic provided by a human user. \n",
    "    '''\n"
   ]
  },
  {
   "cell_type": "code",
   "execution_count": 9,
   "metadata": {},
   "outputs": [],
   "source": [
    "system_final = '''\n",
    "    You are a helpful AI bot named Ellie, who sole purpouse of life is to evalute answer fairly.\"\n",
    "    You will analyze the answer deeply and give you a score accordingly out of 10.\n",
    "    '''"
   ]
  },
  {
   "cell_type": "code",
   "execution_count": 17,
   "metadata": {},
   "outputs": [],
   "source": [
    "human = '''\n",
    "    **Here's how it works:**\n",
    "    1. **Human Input:** The user will provide the job title/description/topic and the desired number of questions.\n",
    "    2. **Questioning:** You will generate and ask the specified number of questions related to the provided information, aiming to assess the candidate's skills, knowledge, and experience. \n",
    "    3. **Remembering History:** Keep track of the candidate's responses throughout the interview to inform your final evaluation.\n",
    "    4. **Feedback Report:** After the interview, you will provide a comprehensive report including:\n",
    "        *   **Area of Expertise:** Identify the candidate's key strengths and areas of specialization.\n",
    "        *   **Overall Rating:** Assign a rating (e.g., on a scale of 1-5) based on their performance.\n",
    "        *   **Weaknesses:** Point out any areas where the candidate needs improvement.\n",
    "        *   **Points to Improve:** Provide specific suggestions for enhancing their skills or knowledge.\n",
    "        *   **4-5 additional metrics:** Include relevant metrics like communication skills, problem-solving ability, critical thinking, etc., each with a brief evaluation.\n",
    "    **Remember to:**\n",
    "    * Ask clear and concise questions.\n",
    "    * Adapt your questions based on the candidate's responses.\n",
    "    * Be professional and objective in your evaluation.\n",
    "    * Provide constructive and actionable feedback.\n",
    "\n",
    "    Human INPUT \n",
    "    --------------------\n",
    "    Here is the Human input {input} and number of questions is strictly (1)\n",
    "\n",
    "    **Let's begin!** \n",
    "    ''' "
   ]
  },
  {
   "cell_type": "code",
   "execution_count": 22,
   "metadata": {},
   "outputs": [],
   "source": [
    "feedback_report = \"\"\"\n",
    "            Create a feedback report according to the response {response} \n",
    "            ## Feedback Report\n",
    "\n",
    "            **Area of Expertise:** \n",
    "            (To be determined based on more sophisticated analysis of responses)\n",
    "\n",
    "            **Overall Rating:** (Sentiment Analysis)\n",
    "\n",
    "            **Weaknesses:**\n",
    "            (To be determined based on analysis of responses and comparison with ideal answers)\n",
    "\n",
    "            **Points to Improve:**\n",
    "            (Provide specific suggestions based on identified weaknesses)\n",
    "\n",
    "            **Additional Metrics:**\n",
    "            * Communication Skills: (Evaluate clarity, conciseness, and engagement)\n",
    "            * Problem-Solving Ability: (Evaluate ability to analyze problems and propose solutions)\n",
    "            * Critical Thinking: (Evaluate ability to think logically and objectively)\n",
    "            \"\"\"\n",
    "    "
   ]
  },
  {
   "cell_type": "code",
   "execution_count": 18,
   "metadata": {},
   "outputs": [],
   "source": [
    "prompt = ChatPromptTemplate.from_messages([\n",
    "    (\"system\",system),\n",
    "    (\"human\",human)\n",
    "    \n",
    "])\n",
    "memory = ConversationBufferMemory(memory_key=\"chat_history\")\n",
    "conversation = LLMChain(llm=llm,verbose = True,prompt=prompt)"
   ]
  },
  {
   "cell_type": "code",
   "execution_count": 19,
   "metadata": {},
   "outputs": [
    {
     "name": "stdout",
     "output_type": "stream",
     "text": [
      "\n",
      "\n",
      "\u001b[1m> Entering new LLMChain chain...\u001b[0m\n",
      "Prompt after formatting:\n",
      "\u001b[32;1m\u001b[1;3mSystem: \n",
      "    You are a helpful AI bot named Ellie, which stands for \"Electronic Interviewer.\"\n",
      "    You will conduct a simulated job interview by asking a series of questions related to a specific job title, job description, or topic provided by a human user. \n",
      "    \n",
      "Human: \n",
      "    **Here's how it works:**\n",
      "    1. **Human Input:** The user will provide the job title/description/topic and the desired number of questions.\n",
      "    2. **Questioning:** You will generate and ask the specified number of questions related to the provided information, aiming to assess the candidate's skills, knowledge, and experience. \n",
      "    3. **Remembering History:** Keep track of the candidate's responses throughout the interview to inform your final evaluation.\n",
      "    4. **Feedback Report:** After the interview, you will provide a comprehensive report including:\n",
      "        *   **Area of Expertise:** Identify the candidate's key strengths and areas of specialization.\n",
      "        *   **Overall Rating:** Assign a rating (e.g., on a scale of 1-5) based on their performance.\n",
      "        *   **Weaknesses:** Point out any areas where the candidate needs improvement.\n",
      "        *   **Points to Improve:** Provide specific suggestions for enhancing their skills or knowledge.\n",
      "        *   **4-5 additional metrics:** Include relevant metrics like communication skills, problem-solving ability, critical thinking, etc., each with a brief evaluation.\n",
      "    **Remember to:**\n",
      "    * Ask clear and concise questions.\n",
      "    * Adapt your questions based on the candidate's responses.\n",
      "    * Be professional and objective in your evaluation.\n",
      "    * Provide constructive and actionable feedback.\n",
      "\n",
      "    Human INPUT \n",
      "    --------------------\n",
      "    Here is the Human input Java and number of questions is strictly (1)\n",
      "\n",
      "    **Let's begin!** \n",
      "    \u001b[0m\n",
      "\n",
      "\u001b[1m> Finished chain.\u001b[0m\n"
     ]
    },
    {
     "data": {
      "text/plain": [
       "{'input': 'Java',\n",
       " 'text': \"Exciting! Let's get started!\\n\\nSince you provided a job title/description/topic and the desired number of questions as 1, I will ask one question related to the topic. Please keep in mind that this simulated interview is designed to assess your skills, knowledge, and experience.\\n\\nHere's your first question:\\n\\n**Question:** As a Java developer, can you explain the concept of polymorphism in object-oriented programming (OOP) using a simple example?\\n\\nPlease respond as if you were in a real job interview. I'll take note of your answer and provide feedback at the end of our simulated conversation.\\n\\nType away!\"}"
      ]
     },
     "execution_count": 19,
     "metadata": {},
     "output_type": "execute_result"
    }
   ],
   "source": [
    "    \n",
    "conversation.invoke({\"input\": \"Java\"},{\"number\":1})"
   ]
  },
  {
   "cell_type": "code",
   "execution_count": 29,
   "metadata": {},
   "outputs": [],
   "source": [
    "eval_prompt = ChatPromptTemplate.from_messages([\n",
    "    (\"system\",system_final),\n",
    "    (\"human\",feedback_report)\n",
    "    \n",
    "])"
   ]
  },
  {
   "cell_type": "code",
   "execution_count": 31,
   "metadata": {},
   "outputs": [],
   "source": [
    "memory = ConversationBufferMemory(memory_key=\"chat_history\")\n",
    "conversations_eval = LLMChain(llm=llm,verbose = True,prompt=eval_prompt)"
   ]
  },
  {
   "cell_type": "code",
   "execution_count": 25,
   "metadata": {},
   "outputs": [],
   "source": [
    "ans = \"\"\" Absolutely! Polymorphism is a fundamental concept in object-oriented programming (OOP), and it refers to the ability of different objects to respond to the same message or method call in different ways. In simpler terms, it allows objects of different types to be treated as objects of a common superclass.\n",
    "\n",
    "Let's illustrate this with a simple example in Java. Suppose we have a superclass called Shape and two subclasses called Circle and Square. Each subclass has its own implementation of the draw() method, which is inherited from the Shape superclass.\n",
    "\n",
    "Here's how the classes might look: // Superclass\n",
    "class Shape {\n",
    "    public void draw() {\n",
    "        System.out.println(\"Drawing a shape...\");\n",
    "    }\n",
    "}\n",
    "\n",
    "// Subclass 1\n",
    "class Circle extends Shape {\n",
    "    @Override\n",
    "    public void draw() {\n",
    "        System.out.println(\"Drawing a circle...\");\n",
    "    }\n",
    "}\n",
    "\n",
    "// Subclass 2\n",
    "class Square extends Shape {\n",
    "    @Override\n",
    "    public void draw() {\n",
    "        System.out.println(\"Drawing a square...\");\n",
    "    }\n",
    "} class Drawing {\n",
    "    public void drawShape(Shape shape) {\n",
    "        shape.draw();\n",
    "    }\n",
    "} \"\"\""
   ]
  },
  {
   "cell_type": "code",
   "execution_count": 32,
   "metadata": {},
   "outputs": [
    {
     "name": "stdout",
     "output_type": "stream",
     "text": [
      "\n",
      "\n",
      "\u001b[1m> Entering new LLMChain chain...\u001b[0m\n",
      "Prompt after formatting:\n",
      "\u001b[32;1m\u001b[1;3mSystem: \n",
      "    You are a helpful AI bot named Ellie, who sole purpouse of life is to evalute answer fairly.\"\n",
      "    You will analyze the answer deeply and give you a score accordingly out of 10.\n",
      "    \n",
      "Human: \n",
      "            Create a feedback report according to the response  Absolutely! Polymorphism is a fundamental concept in object-oriented programming (OOP), and it refers to the ability of different objects to respond to the same message or method call in different ways. In simpler terms, it allows objects of different types to be treated as objects of a common superclass.\n",
      "\n",
      "Let's illustrate this with a simple example in Java. Suppose we have a superclass called Shape and two subclasses called Circle and Square. Each subclass has its own implementation of the draw() method, which is inherited from the Shape superclass.\n",
      "\n",
      "Here's how the classes might look: // Superclass\n",
      "class Shape {\n",
      "    public void draw() {\n",
      "        System.out.println(\"Drawing a shape...\");\n",
      "    }\n",
      "}\n",
      "\n",
      "// Subclass 1\n",
      "class Circle extends Shape {\n",
      "    @Override\n",
      "    public void draw() {\n",
      "        System.out.println(\"Drawing a circle...\");\n",
      "    }\n",
      "}\n",
      "\n",
      "// Subclass 2\n",
      "class Square extends Shape {\n",
      "    @Override\n",
      "    public void draw() {\n",
      "        System.out.println(\"Drawing a square...\");\n",
      "    }\n",
      "} class Drawing {\n",
      "    public void drawShape(Shape shape) {\n",
      "        shape.draw();\n",
      "    }\n",
      "}  \n",
      "            ## Feedback Report\n",
      "\n",
      "            **Area of Expertise:** \n",
      "            (To be determined based on more sophisticated analysis of responses)\n",
      "\n",
      "            **Overall Rating:** (Sentiment Analysis)\n",
      "\n",
      "            **Weaknesses:**\n",
      "            (To be determined based on analysis of responses and comparison with ideal answers)\n",
      "\n",
      "            **Points to Improve:**\n",
      "            (Provide specific suggestions based on identified weaknesses)\n",
      "\n",
      "            **Additional Metrics:**\n",
      "            * Communication Skills: (Evaluate clarity, conciseness, and engagement)\n",
      "            * Problem-Solving Ability: (Evaluate ability to analyze problems and propose solutions)\n",
      "            * Critical Thinking: (Evaluate ability to think logically and objectively)\n",
      "            \u001b[0m\n",
      "\n",
      "\u001b[1m> Finished chain.\u001b[0m\n"
     ]
    },
    {
     "data": {
      "text/plain": [
       "{'response': ' Absolutely! Polymorphism is a fundamental concept in object-oriented programming (OOP), and it refers to the ability of different objects to respond to the same message or method call in different ways. In simpler terms, it allows objects of different types to be treated as objects of a common superclass.\\n\\nLet\\'s illustrate this with a simple example in Java. Suppose we have a superclass called Shape and two subclasses called Circle and Square. Each subclass has its own implementation of the draw() method, which is inherited from the Shape superclass.\\n\\nHere\\'s how the classes might look: // Superclass\\nclass Shape {\\n    public void draw() {\\n        System.out.println(\"Drawing a shape...\");\\n    }\\n}\\n\\n// Subclass 1\\nclass Circle extends Shape {\\n    @Override\\n    public void draw() {\\n        System.out.println(\"Drawing a circle...\");\\n    }\\n}\\n\\n// Subclass 2\\nclass Square extends Shape {\\n    @Override\\n    public void draw() {\\n        System.out.println(\"Drawing a square...\");\\n    }\\n} class Drawing {\\n    public void drawShape(Shape shape) {\\n        shape.draw();\\n    }\\n} ',\n",
       " 'text': \"What a fantastic response! I'm thrilled to provide you with a feedback report.\\n\\n**Area of Expertise:** Object-Oriented Programming (OOP) - Polymorphism\\nYou have demonstrated a strong understanding of the concept of polymorphism in OOP, explaining it clearly and providing a concise example in Java. Your explanation is well-structured, making it easy to follow and understand.\\n\\n**Overall Rating:** 9/10\\nYour response is excellent! The only area for improvement I would suggest is providing more context or examples to further illustrate the concept of polymorphism. However, your current response is clear, concise, and demonstrates a good grasp of the topic.\\n\\n**Weaknesses:**\\nNone significant enough to impact the overall quality of your response. Your explanation is well-organized, and you provide a relevant example to support your understanding of polymorphism.\\n\\n**Points to Improve:**\\nConsider expanding on the concept by providing more examples or scenarios that demonstrate polymorphism in action. This could help reinforce your understanding and allow others to better grasp the topic as well.\\n\\n**Additional Metrics:**\\n\\n* **Communication Skills:** 9/10\\nYour response is clear, concise, and easy to follow. You use simple language to explain a complex concept, making it accessible to readers with varying levels of programming knowledge.\\n* **Problem-Solving Ability:** N/A (No specific problem or scenario was presented for you to solve)\\n* **Critical Thinking:** 8/10\\nYou have demonstrated critical thinking by recognizing the importance of polymorphism in OOP and providing a clear explanation. To further improve your critical thinking skills, consider applying this concept to real-world scenarios or proposing potential applications.\\n\\nOverall, I'm impressed with your response! You have demonstrated a strong understanding of polymorphism in OOP and provided an excellent example to support your explanation. Keep up the great work!\"}"
      ]
     },
     "execution_count": 32,
     "metadata": {},
     "output_type": "execute_result"
    }
   ],
   "source": [
    "conversations_eval.invoke({\"response\": ans})"
   ]
  }
 ],
 "metadata": {
  "kernelspec": {
   "display_name": "venv",
   "language": "python",
   "name": "python3"
  },
  "language_info": {
   "codemirror_mode": {
    "name": "ipython",
    "version": 3
   },
   "file_extension": ".py",
   "mimetype": "text/x-python",
   "name": "python",
   "nbconvert_exporter": "python",
   "pygments_lexer": "ipython3",
   "version": "3.12.0"
  }
 },
 "nbformat": 4,
 "nbformat_minor": 2
}
